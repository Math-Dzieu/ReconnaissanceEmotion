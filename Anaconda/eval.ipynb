{
 "cells": [
  {
   "cell_type": "markdown",
   "metadata": {},
   "source": [
    "### Fichier eval"
   ]
  },
  {
   "cell_type": "code",
   "execution_count": 98,
   "metadata": {},
   "outputs": [],
   "source": [
    "\"\"\"\n",
    "Import nécessaire au fonctionnement du .ipynb\n",
    "\"\"\"\n",
    "import pickle\n",
    "from sklearn import metrics\n",
    "import pandas as pd"
   ]
  },
  {
   "cell_type": "code",
   "execution_count": 99,
   "metadata": {},
   "outputs": [],
   "source": [
    "def RecoveryFromPickle(filename):\n",
    "    \"\"\"\n",
    "    Cette fonction va recuperer les données contenu dans un fichier .pickle et le retourner\n",
    " \n",
    "    @Param1 String : filename   = Nom du fichier ou l'on récupère les informations\n",
    "    \"\"\"\n",
    "    # Chargement du modele\n",
    "    with open(filename+'.pickle', 'rb') as f:\n",
    "        data = pickle.load(f)\n",
    "\n",
    "    return data"
   ]
  },
  {
   "cell_type": "code",
   "execution_count": 100,
   "metadata": {},
   "outputs": [],
   "source": [
    "def savePrediction(LR_Model, headerList):\n",
    "    \"\"\"\n",
    "    Cette fonction va recuperer le modele de regression lineaire entrainer dans la partie training ainsi que la list des entêtes \n",
    "    que l'on a garde pour pouvoir faire une prediction sur la base de test\n",
    " \n",
    "    @Param1 sklearn.linear_model._logistic.LogisticRegression : LR_Model   = Nom du fichier ou l'on récupère les informations\n",
    "    @Param2 List : headerList                                              = Liste contenant les nom des entetes que l'on a garde au Training \n",
    "    \"\"\"    \n",
    "    dfTest = pd.read_csv(\"./features_test.csv\", usecols = headerList)\n",
    "    dfTest.columns.values\n",
    "\n",
    "    array = dfTest.values\n",
    "    X = array[:,1:len(dfTest.columns)]\n",
    "    \n",
    "    predictions = LR_Model.predict(X)\n",
    "    predictions = pd.Series(predictions)    \n",
    "    predictions.to_csv(\"./predictions.csv\", index=False)\n",
    "    print(predictions)\n"
   ]
  },
  {
   "cell_type": "code",
   "execution_count": 101,
   "metadata": {},
   "outputs": [],
   "source": [
    "#On charge le modele linaire entraine\n",
    "LR_Model= RecoveryFromPickle('LR_Model')\n",
    "#On charge la liste des header recupere\n",
    "listOfTitle=RecoveryFromPickle('listOfIndex')"
   ]
  },
  {
   "cell_type": "markdown",
   "metadata": {},
   "source": [
    "### Sauvegarde des predictions dans un fichier CSV"
   ]
  },
  {
   "cell_type": "code",
   "execution_count": 102,
   "metadata": {},
   "outputs": [
    {
     "name": "stdout",
     "output_type": "stream",
     "text": [
      "0      0\n",
      "1      7\n",
      "2      0\n",
      "3      0\n",
      "4      1\n",
      "      ..\n",
      "121    6\n",
      "122    0\n",
      "123    1\n",
      "124    0\n",
      "125    4\n",
      "Length: 126, dtype: int32\n"
     ]
    }
   ],
   "source": [
    "#On sauvegarde les predictions\n",
    "savePrediction(LR_Model, listOfTitle)"
   ]
  },
  {
   "cell_type": "code",
   "execution_count": null,
   "metadata": {},
   "outputs": [],
   "source": []
  },
  {
   "cell_type": "code",
   "execution_count": null,
   "metadata": {},
   "outputs": [],
   "source": []
  }
 ],
 "metadata": {
  "kernelspec": {
   "display_name": "Python 3",
   "language": "python",
   "name": "python3"
  },
  "language_info": {
   "codemirror_mode": {
    "name": "ipython",
    "version": 3
   },
   "file_extension": ".py",
   "mimetype": "text/x-python",
   "name": "python",
   "nbconvert_exporter": "python",
   "pygments_lexer": "ipython3",
   "version": "3.8.3"
  }
 },
 "nbformat": 4,
 "nbformat_minor": 4
}
