{
 "cells": [
  {
   "cell_type": "code",
   "execution_count": 2,
   "metadata": {},
   "outputs": [],
   "source": [
    "\"\"\"\n",
    "Import nécessaire au fonctionnement du .ipynb\n",
    "\"\"\"\n",
    "import pandas as pd\n",
    "from math import sqrt\n",
    "from sklearn.feature_selection import SelectKBest\n",
    "from sklearn.feature_selection import chi2\n",
    "import numpy as np\n",
    "import os"
   ]
  },
  {
   "cell_type": "code",
   "execution_count": 3,
   "metadata": {},
   "outputs": [],
   "source": [
    "def addFeature(FileWithPath, saveName):\n",
    "    df = pd.read_csv(FileWithPath)\n",
    "    label = 1\n",
    "    \n",
    "    if(saveName==\"features_test\"):\n",
    "        label = 0\n",
    "    else:\n",
    "        label = 1\n",
    "    \n",
    "    listDistFeatureDistance=[2, 48, 14, 54, 48, 54, 8, 57, 50, 58, 52, 56, 33 ,51, 18, 37, 37, 41, 23, 43, 25, 44, 44, 46, 63, 65, 61, 67, 21, 27, 22, 27]\n",
    "    for feature in range(0, int(len(listDistFeatureDistance)), 2):\n",
    "        Title = (\"d_\"+str(listDistFeatureDistance[feature])+\"_\"+str(listDistFeatureDistance[feature+1]))\n",
    "        try:\n",
    "            #print(str(listDistFeatureDistance[feature]), str(listDistFeatureDistance[feature+1]))\n",
    "            df.insert((len(df.columns)-label), Title, 0)\n",
    "            df[Title] = df[Title].astype(float)\n",
    "        except:\n",
    "            None\n",
    "        for val in range(len(df)):\n",
    "            x2, x1 =\" x_\"+str(listDistFeatureDistance[feature+1]), \" x_\"+str(listDistFeatureDistance[feature])\n",
    "            y2, y1 =\" y_\"+str(listDistFeatureDistance[feature+1]), \" y_\"+str(listDistFeatureDistance[feature])\n",
    "            df[Title][val] = sqrt(((df[x2][val] - df[x1][val])**2)+((df[y2][val] - df[y1][val])**2))\n",
    "\n",
    "\n",
    "    listDistFeaturePente=[49, 48, 54, 53]\n",
    "    for feature in range(0, int(len(listDistFeaturePente)), 2):\n",
    "        Title = (\"p_\"+str(listDistFeaturePente[feature])+\"_\"+str(listDistFeaturePente[feature+1]))\n",
    "        try:\n",
    "            #print(str(listDistFeaturePente[feature]), str(listDistFeaturePente[feature+1]))\n",
    "            df.insert((len(df.columns)-label), Title, 0)\n",
    "            df[Title] = df[Title].astype(float)\n",
    "        except:\n",
    "            None\n",
    "        for val in range(len(df)):\n",
    "            x2, x1 =\" x_\"+str(listDistFeaturePente[feature+1]), \" x_\"+str(listDistFeaturePente[feature])\n",
    "            y2, y1 =\" y_\"+str(listDistFeaturePente[feature+1]), \" y_\"+str(listDistFeaturePente[feature])\n",
    "            df[Title][val] = abs(((df[y2][val] - df[y1][val]) / (df[x2][val] - df[x1][val]))*100)\n",
    "\n",
    "\n",
    "    df.to_csv(\"./\"+saveName+\".csv\", index=False, float_format='%.2f')\n",
    "    "
   ]
  },
  {
   "cell_type": "code",
   "execution_count": 4,
   "metadata": {},
   "outputs": [
    {
     "name": "stderr",
     "output_type": "stream",
     "text": [
      "<ipython-input-3-7454419e6cd6>:22: SettingWithCopyWarning: \n",
      "A value is trying to be set on a copy of a slice from a DataFrame\n",
      "\n",
      "See the caveats in the documentation: https://pandas.pydata.org/pandas-docs/stable/user_guide/indexing.html#returning-a-view-versus-a-copy\n",
      "  df[Title][val] = sqrt(((df[x2][val] - df[x1][val])**2)+((df[y2][val] - df[y1][val])**2))\n",
      "<ipython-input-3-7454419e6cd6>:37: SettingWithCopyWarning: \n",
      "A value is trying to be set on a copy of a slice from a DataFrame\n",
      "\n",
      "See the caveats in the documentation: https://pandas.pydata.org/pandas-docs/stable/user_guide/indexing.html#returning-a-view-versus-a-copy\n",
      "  df[Title][val] = abs(((df[y2][val] - df[y1][val]) / (df[x2][val] - df[x1][val]))*100)\n"
     ]
    }
   ],
   "source": [
    "FileWithPath = [\"./trainset/trainset.csv\", \"./testset/testset.csv\"]\n",
    "SavedNames=[\"trainSetWithFeatures\", \"features_test\"]\n",
    "FinalSavedNames=[\"features_train\", \"features_testUseless\"]\n",
    "\n",
    "for (File, Name, FinalName) in zip(FileWithPath, SavedNames, FinalSavedNames): \n",
    "    addFeature(File, Name)\n",
    "\n",
    "#Suppression des fichiers temporaire (SavedNames)\n",
    "#os.remove(\"./trainSetWithFeatures.csv\")\n"
   ]
  },
  {
   "cell_type": "code",
   "execution_count": null,
   "metadata": {},
   "outputs": [],
   "source": []
  }
 ],
 "metadata": {
  "kernelspec": {
   "display_name": "Python 3",
   "language": "python",
   "name": "python3"
  },
  "language_info": {
   "codemirror_mode": {
    "name": "ipython",
    "version": 3
   },
   "file_extension": ".py",
   "mimetype": "text/x-python",
   "name": "python",
   "nbconvert_exporter": "python",
   "pygments_lexer": "ipython3",
   "version": "3.8.3"
  }
 },
 "nbformat": 4,
 "nbformat_minor": 4
}
